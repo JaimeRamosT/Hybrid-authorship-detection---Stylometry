{
 "cells": [
  {
   "cell_type": "markdown",
   "id": "ee47bd19",
   "metadata": {},
   "source": [
    "# Entrenamiento de los modelos"
   ]
  },
  {
   "cell_type": "code",
   "execution_count": 3,
   "id": "7aabf094",
   "metadata": {},
   "outputs": [],
   "source": [
    "from sklearn.svm import SVC\n",
    "from sklearn.model_selection import train_test_split\n",
    "from sklearn.metrics import classification_report, confusion_matrix, accuracy_score\n",
    "import numpy as np"
   ]
  },
  {
   "cell_type": "code",
   "execution_count": null,
   "id": "2877e60f",
   "metadata": {},
   "outputs": [],
   "source": [
    "dfPath = \"dataframe/train_df.csv\"\n",
    "train_df = np.loadtxt(dfPath, delimiter=',', skiprows=1)"
   ]
  },
  {
   "cell_type": "code",
   "execution_count": null,
   "id": "2c3180b1",
   "metadata": {},
   "outputs": [
    {
     "ename": "IndexError",
     "evalue": "only integers, slices (`:`), ellipsis (`...`), numpy.newaxis (`None`) and integer or boolean arrays are valid indices",
     "output_type": "error",
     "traceback": [
      "\u001b[31m---------------------------------------------------------------------------\u001b[39m",
      "\u001b[31mIndexError\u001b[39m                                Traceback (most recent call last)",
      "\u001b[36mCell\u001b[39m\u001b[36m \u001b[39m\u001b[32mIn[7]\u001b[39m\u001b[32m, line 2\u001b[39m\n\u001b[32m      1\u001b[39m \u001b[38;5;66;03m# 1. Obtener IDs únicos\u001b[39;00m\n\u001b[32m----> \u001b[39m\u001b[32m2\u001b[39m unique_ids = \u001b[43mtrain_df\u001b[49m\u001b[43m[\u001b[49m\u001b[33;43m'\u001b[39;49m\u001b[33;43mid\u001b[39;49m\u001b[33;43m'\u001b[39;49m\u001b[43m]\u001b[49m.unique()\n\u001b[32m      3\u001b[39m \u001b[38;5;28mprint\u001b[39m(\u001b[33mf\u001b[39m\u001b[33m\"\u001b[39m\u001b[33mTotal de documentos únicos: \u001b[39m\u001b[38;5;132;01m{\u001b[39;00m\u001b[38;5;28mlen\u001b[39m(unique_ids)\u001b[38;5;132;01m}\u001b[39;00m\u001b[33m\"\u001b[39m)\n\u001b[32m      5\u001b[39m \u001b[38;5;66;03m# 2. Crear mapping de ID a clase\u001b[39;00m\n",
      "\u001b[31mIndexError\u001b[39m: only integers, slices (`:`), ellipsis (`...`), numpy.newaxis (`None`) and integer or boolean arrays are valid indices"
     ]
    }
   ],
   "source": [
    "# 1. Obtener IDs únicos\n",
    "unique_ids = train_df['id'].unique()\n",
    "print(f\"Total de documentos únicos: {len(unique_ids)}\")\n",
    "\n",
    "# 2. Crear mapping de ID a clase\n",
    "id_to_class = train_df.groupby('id')['is_human'].first().to_dict()\n",
    "\n",
    "# 3. Split de IDs (no de oraciones)\n",
    "from sklearn.model_selection import train_test_split\n",
    "\n",
    "# Preparar listas para stratified split\n",
    "ids_list = list(id_to_class.keys())\n",
    "labels_list = [id_to_class[id_] for id_ in ids_list]\n",
    "\n",
    "train_ids, test_ids = train_test_split(\n",
    "    ids_list, \n",
    "    test_size=0.2, \n",
    "    random_state=42, \n",
    "    stratify=labels_list  # Mantener proporción de clases\n",
    ")\n",
    "\n",
    "print(f\"Documentos en train: {len(train_ids)}\")\n",
    "print(f\"Documentos en test: {len(test_ids)}\")\n",
    "\n",
    "# 4. Filtrar oraciones según los IDs\n",
    "train_sentences = train_df[train_df['id'].isin(train_ids)]\n",
    "test_sentences = train_df[train_df['id'].isin(test_ids)]\n",
    "\n",
    "print(f\"\\nOraciones en train: {len(train_sentences)}\")\n",
    "print(f\"Oraciones en test: {len(test_sentences)}\")\n",
    "\n",
    "# 5. Preparar X e y\n",
    "X_train_doc = train_sentences[feature_columns].values\n",
    "y_train_doc = train_sentences['is_human'].values\n",
    "X_test_doc = test_sentences[feature_columns].values\n",
    "y_test_doc = test_sentences['is_human'].values\n",
    "\n",
    "# 6. Entrenar modelo\n",
    "print(\"\\n\" + \"=\"*50)\n",
    "print(\"Entrenando SVM con split a nivel de documento...\")\n",
    "print(\"=\"*50)\n",
    "\n",
    "svm_model_doc = SVC(kernel='rbf', C=1.0, gamma='scale', random_state=42)\n",
    "svm_model_doc.fit(X_train_doc, y_train_doc)\n",
    "\n",
    "# 7. Evaluación\n",
    "y_pred_doc = svm_model_doc.predict(X_test_doc)\n",
    "\n",
    "print(\"\\nResultados en Test Set (Split por Documento):\")\n",
    "print(f\"Accuracy: {accuracy_score(y_test_doc, y_pred_doc):.4f}\")\n",
    "print(\"\\nClassification Report:\")\n",
    "print(classification_report(y_test_doc, y_pred_doc, target_names=['IA', 'Humano']))\n",
    "print(\"\\nConfusion Matrix:\")\n",
    "print(confusion_matrix(y_test_doc, y_pred_doc))"
   ]
  }
 ],
 "metadata": {
  "kernelspec": {
   "display_name": ".venv",
   "language": "python",
   "name": "python3"
  },
  "language_info": {
   "codemirror_mode": {
    "name": "ipython",
    "version": 3
   },
   "file_extension": ".py",
   "mimetype": "text/x-python",
   "name": "python",
   "nbconvert_exporter": "python",
   "pygments_lexer": "ipython3",
   "version": "3.11.1"
  }
 },
 "nbformat": 4,
 "nbformat_minor": 5
}
